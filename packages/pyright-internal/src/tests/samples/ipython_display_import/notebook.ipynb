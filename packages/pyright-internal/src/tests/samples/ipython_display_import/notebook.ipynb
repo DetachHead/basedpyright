{
 "cells": [
  {
   "cell_type": "code",
   "execution_count": null,
   "metadata": {},
   "outputs": [],
   "source": [
    "from typing import Callable, assert_type\n",
    "\n",
    "assert_type(display, Callable[[], None])\n",
    "# ensure that only display is imported, not the whole module\n",
    "display_html"
   ]
  }
 ],
 "metadata": {
  "language_info": {
   "name": "python"
  }
 },
 "nbformat": 4,
 "nbformat_minor": 2
}
