{
    "metadata": {
        "name": "Cython Magics",
        "signature": "sha256:c357b93e9480d6347c6677862bf43750745cef4b30129c5bc53cb879a19d4074"
    },
    "nbformat": 3,
    "nbformat_minor": 0,
    "worksheets": [
        {
            "cells": [
                {
                    "cell_type": "code",
                    "collapsed": false,
                    "input": [
                        "%%cython\n",
                        "cimport cython\n",
                        "from libc.math cimport exp, sqrt, pow, log, erf\n",
                        "\n",
                        "@cython.cdivision(True)\n",
                        "cdef double std_norm_cdf_cy(double x) nogil:\n",
                        "    return 0.5*(1+erf(x/sqrt(2.0)))\n",
                        "\n",
                        "@cython.cdivision(True)\n",
                        "def black_scholes_cy(double s, double k, double t, double v,\n",
                        "                     double rf, double div, double cp):\n",
                        "    \"\"\"Price an option using the Black-Scholes model.\n",
                        "    \n",
                        "    s : initial stock price\n",
                        "    k : strike price\n",
                        "    t : expiration time\n",
                        "    v : volatility\n",
                        "    rf : risk-free rate\n",
                        "    div : dividend\n",
                        "    cp : +1/-1 for call/put\n",
                        "    \"\"\"\n",
                        "    cdef double d1, d2, optprice\n",
                        "    with nogil:\n",
                        "        d1 = (log(s/k)+(rf-div+0.5*pow(v,2))*t)/(v*sqrt(t))\n",
                        "        d2 = d1 - v*sqrt(t)\n",
                        "        optprice = cp*s*exp(-div*t)*std_norm_cdf_cy(cp*d1) - \\\n",
                        "            cp*k*exp(-rf*t)*std_norm_cdf_cy(cp*d2)\n",
                        "    return optprice"
                    ],
                    "language": "python",
                    "metadata": {},
                    "outputs": [],
                    "prompt_number": 6
                }
            ],
            "metadata": {}
        }
    ]
}